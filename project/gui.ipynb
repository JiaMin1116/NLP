{
 "cells": [
  {
   "cell_type": "code",
   "execution_count": 1,
   "metadata": {},
   "outputs": [
    {
     "name": "stdout",
     "output_type": "stream",
     "text": [
      "Tema Teks: Kekeluargaan\n",
      "Tema Teks: Kekeluargaan\n"
     ]
    }
   ],
   "source": [
    "import tkinter as tk\n",
    "from tkinter import filedialog\n",
    "from tkinter import messagebox\n",
    "\n",
    "def classify_text():\n",
    "        \n",
    "    file_path = filedialog.askopenfilename(filetypes=[(\"Text Files\", \"*.txt\")])\n",
    "    with open(file_path, 'r') as file:\n",
    "        text = file.read()\n",
    "    text_area.delete(1.0, tk.END)\n",
    "    text_area.insert(tk.END, text)\n",
    "    \n",
    "    if file_path:\n",
    "        try:\n",
    "            with open(file_path, 'r') as file:\n",
    "                text = file.read()\n",
    "                \n",
    "                categories = {\n",
    "                   'Kekeluargaan': ['anak', 'bapa', 'adik', 'sepupu', \n",
    "                                'moyang','mentua', 'keluarga', 'abang', \n",
    "                                'kakak', 'ayah', 'ibu', 'mak', 'ummi',\n",
    "                                'abah', 'papa', 'daddy', 'abi', 'suami', \n",
    "                                'isteri', 'saudara', 'mami', 'mama', 'cicit', 'wan', 'tok',\n",
    "                                'ipar', 'opah', 'baby', 'cucu'],\n",
    "                    'Persahabatan': ['kawan', 'rakan', 'sahabat', 'member'],\n",
    "                    'Percintaan': ['kasih', 'sayang', 'cinta', 'couple', 'sehati'],\n",
    "                    'Pergaduhan': ['konflik', 'gaduh', 'benci', 'dendam', 'marah', 'tengking', 'sedih']\n",
    "                    \n",
    "                   \n",
    "                }\n",
    "                \n",
    "                category_counts = {category: 0 for category in categories}\n",
    "                \n",
    "                for category, keywords in categories.items():\n",
    "                    for keyword in keywords:\n",
    "                        if keyword in text:\n",
    "                            category_counts[category] += 1\n",
    "                \n",
    "                max_category = max(category_counts, key=category_counts.get)\n",
    "                \n",
    "                print(f\"Tema Teks: {max_category}\")\n",
    "                \n",
    "                messagebox.showinfo(\"Tema Teks\", f\"Teks ini bertemakan: {max_category},  \\nBilangan jenis kata kunci yang terdapat dalam teks: {category_counts}\")\n",
    "                \n",
    "        except Exception as e:\n",
    "            messagebox.showerror(\"Error\", str(e))\n",
    "    else:\n",
    "        messagebox.showwarning(\"Warning\", \"No file selected.\")\n",
    "\n",
    "window = tk.Tk()\n",
    "window.title(\"Tema Teks\")\n",
    "window.geometry(\"1000x500\")\n",
    "\n",
    "import_button = tk.Button(window, text=\"Import Text File\", command=classify_text)\n",
    "import_button.pack(pady=20)\n",
    "\n",
    "frame = tk.Frame(window)\n",
    "frame.pack(pady=20)\n",
    "\n",
    "text_area = tk.Text(frame, height=200, width=100)\n",
    "text_area.pack()\n",
    "                \n",
    "window.mainloop()"
   ]
  }
 ],
 "metadata": {
  "kernelspec": {
   "display_name": "base",
   "language": "python",
   "name": "python3"
  },
  "language_info": {
   "codemirror_mode": {
    "name": "ipython",
    "version": 3
   },
   "file_extension": ".py",
   "mimetype": "text/x-python",
   "name": "python",
   "nbconvert_exporter": "python",
   "pygments_lexer": "ipython3",
   "version": "3.10.9"
  },
  "orig_nbformat": 4
 },
 "nbformat": 4,
 "nbformat_minor": 2
}
